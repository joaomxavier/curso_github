{
 "cells": [
  {
   "cell_type": "markdown",
   "metadata": {},
   "source": [
    "## **Controle de versão**"
   ]
  },
  {
   "cell_type": "markdown",
   "metadata": {},
   "source": [
    "* É uma técnica que ajuda a `gerenciar o código-fonte` de uma aplicação\n",
    "* Registro de `todas as modificações` de código, podendo também reverter as mesmas\n",
    "* Criação de versões de software em diferentes estágios, podendo `alterar facilmente entre elas`\n",
    "* Cada membro de equipe pode trabalhar em uma versão diferente\n",
    "* Há ferramentas para trabalhar o controle de versão como: `git` e SVN\n",
    "* Controle de versão é basicamente um requisito para se ter um software de qualidade com alta confiabilidade e de fácil manutenção. \"Boas práticas\""
   ]
  },
  {
   "cell_type": "markdown",
   "metadata": {},
   "source": [
    "## **O que é git?**"
   ]
  },
  {
   "cell_type": "markdown",
   "metadata": {},
   "source": [
    "* É o sistema de controle de versão `mais utilizado do mundo`\n",
    "* O git é baseado em `repositórios`, que contêm todas as versões (branches) do código e também as cópias de cada desenvolvedor\n",
    "* Todas as operações do git `são otimizadas para ter alto desempenho`\n",
    "* Todos os objetos do git são `protegidos com criptografia` para evitar alterações indevidas e maliciosas\n",
    "* O git é `open source`"
   ]
  },
  {
   "cell_type": "markdown",
   "metadata": {},
   "source": [
    "#### **Diferença entre git e github**\n",
    "\n",
    "* Git é a ferramenta para `controle de versão` do código\n",
    "* Github é um servidor que armazena os repositórios dos projetos"
   ]
  },
  {
   "cell_type": "markdown",
   "metadata": {},
   "source": [
    "## **O que é o GitHub?**"
   ]
  },
  {
   "cell_type": "markdown",
   "metadata": {},
   "source": [
    "* É um serviço para `gerenciar repositórios`, gratuito e amplamente utilizado\n",
    "* Podemos `enviar nossos projetos` para o GitHub e disponibilizá-los para outros devs\n",
    "* O GitHub é gratuito tanto para projetos públicos como `privados`"
   ]
  },
  {
   "cell_type": "markdown",
   "metadata": {},
   "source": []
  }
 ],
 "metadata": {
  "kernelspec": {
   "display_name": "Python 3.10.5 64-bit (system)",
   "language": "python",
   "name": "python3"
  },
  "language_info": {
   "name": "python",
   "version": "3.10.5"
  },
  "orig_nbformat": 4,
  "vscode": {
   "interpreter": {
    "hash": "2765143a23a2248ffb34e679751b02069243b5cebfc1f82e19b1c6754ea52f07"
   }
  }
 },
 "nbformat": 4,
 "nbformat_minor": 2
}
