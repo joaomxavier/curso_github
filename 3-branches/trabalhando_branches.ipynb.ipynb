{
 "cells": [
  {
   "cell_type": "markdown",
   "metadata": {},
   "source": [
    "## **Branches**"
   ]
  },
  {
   "cell_type": "markdown",
   "metadata": {},
   "source": [
    "* Branch é a forma que o git `separa as versões dos projetos`\n",
    "* Quando um projeto é criado ele inicia na branch `main`, que é utilizada somente no começo para fazer inserção de arquivos, estabelecer estrutura de pasta inicial e etc..\n",
    "* Geralmente cada `nova feature` de um projeto `fica em um branch separado`\n",
    "* Após a finalização das alterações os `branchs são unidos` (merge) para ter o código-fonte final \n",
    "* São as `ramificações` que teremos no nosso projeto. Ou seja, cada desenvolvedor vai poder ter sua própria versão (branch) do projeto a partir do código fonte principal"
   ]
  },
  {
   "cell_type": "markdown",
   "metadata": {},
   "source": [
    "## **Criando e visualizando branches**"
   ]
  },
  {
   "cell_type": "markdown",
   "metadata": {},
   "source": [
    "* Para `visualizar` os branches disponíveis basta usar o comando `git branch`\n",
    "* Para criar um branch precisamos utilizar o comando `git branch <nome>`\n",
    "* Estas duas operações são muito utilizadas no dia a dia de um dev"
   ]
  },
  {
   "cell_type": "markdown",
   "metadata": {},
   "source": [
    "* Criando uma branch \"primeira_branch\" que parte da branch que estou (main), ou seja, criou uma cópia da branch main\n",
    "* O ideal `criar branches a partir da branch main`\n",
    "\n",
    "<div>\n",
    "    <img src='imagens/git_branch.png'>\n",
    "</div>"
   ]
  },
  {
   "cell_type": "markdown",
   "metadata": {},
   "source": [
    "## **Deletando branches**"
   ]
  },
  {
   "cell_type": "markdown",
   "metadata": {},
   "source": [
    "* Podemos deletar um branch com a flag `-d` ou `--delete`\n",
    "* `NÃO é comum deletar um branch`, normalmente guardamos o histórico do trabalho\n",
    "* Geralmente se usa o delete quando o branch foi criado errado\n",
    "* Exemplo: git branch -d <nome_branch>\n",
    "    * git branch -d primeiro_branch"
   ]
  },
  {
   "cell_type": "markdown",
   "metadata": {},
   "source": [
    "## **Mudando de branch**"
   ]
  },
  {
   "cell_type": "markdown",
   "metadata": {},
   "source": [
    "* Para `mudar` para outro branch utiliza-se o comando `git checkout <nome_branch>`\n",
    "* Para `criar uma branch e mudar` para ela utiliza-se o comando `git checkout -b <nome_nova_branch>`\n",
    "    * Quando criamos uma branch, ela é criada com base na branch atual. O ideal é partir da branch main\n",
    "* `Cuidado!` Alterando o branch podemos levar alterações que não foram commitadas junto\n",
    "    * Precisamos commitar antes de mudar de branch\n",
    "    * Ficar de olho no git status quando for mudar de branch\n",
    "    * Se alterar arquivos -> não comitar -> mudar de branch:\n",
    "        * Arquivos não comitados irão para branch nova e na antiga serão apagados\n",
    "* Pq criar branches?\n",
    "    * Pois não queremos mesclar o código que está sendo feito com o código fonte (main). Precisamos validar antes de levar as atualização novas para o branch main, dessa forma, podemos realizar a validação de forma isolada\n",
    "    * Muda-se de branch para não \"sujar\" a branch main\n",
    "* A ideia é criar as funcionalidades em branches separadas e depois `unir essa branch` nova com a main. Ou seja, desenvolver em outro branch e depois unir as modificações com a main\n",
    "* Boas práticas\n",
    "    * Commitar tudo\n",
    "    * Sair do branch atual\n",
    "    * Ir para a branch main/origem\n",
    "    * Fazer um git pull\n",
    "    * Usar o git checkout -b nome_nova_branch (cópia da main)"
   ]
  },
  {
   "cell_type": "markdown",
   "metadata": {},
   "source": [
    "## **Unindo branches**"
   ]
  },
  {
   "cell_type": "markdown",
   "metadata": {},
   "source": [
    "* O código de dois branches distintos pode ser unido pelo comando `git merge <nome_branch>` → O branch atual se une com o branch escolhido\n",
    "    * Se eu estiver na branch main e der um comando 'git merge funcionalidadeA', estarei trazendo a funcionalidadeA para a main\n",
    "* É um comando `muito` utilizado\n",
    "* Normalmente é por meio dos \"merges\" que recebemos as atualização de outros devs\n",
    "* O Tech lead usa esse recurso para atualizar a main\n",
    "* Se não sou o responsável pelo projeto, devo:\n",
    "    * Atualizar o meu branch com a main (versão atual do projeto)\n",
    "    * Para isso, usar o comando `git merge main`\n",
    "* Nunca dar um merge na branch main com outro branch → Dificilmente vamos atualizar nosso repositório usando a main\n",
    "* Tomar cuidado, `não atualizar a main` diretamente com um git push"
   ]
  },
  {
   "cell_type": "markdown",
   "metadata": {},
   "source": [
    "## **Stash**"
   ]
  },
  {
   "cell_type": "markdown",
   "metadata": {},
   "source": [
    "* Podemos salvar as modificações atuais `para prosseguir com uma outra abordagem de solução` e não perder o código\n",
    "* O stash só pode ser feito se `não houver commit`\n",
    "* O comando utilizado é `git stash`\n",
    "    * Desfaz todas as alterações e armazena o que foi desenvolvido\n",
    "* Após o comando o branch será resetado para a sua versão de acordo com o repo\n",
    "* Praticamente estamos jogando o código no \"lixo\", porém conseguimos recuperar\n",
    "* É utilizado quando queremos recomeçar algo \"mal feito\", ou seja, desenvolvemos algo que queremos guardar e ao mesmo tempo recomeçar do zero"
   ]
  },
  {
   "cell_type": "markdown",
   "metadata": {},
   "source": [
    "<div>\n",
    "    <img src='imagens/git_stash.png'\n",
    "</div>"
   ]
  },
  {
   "cell_type": "markdown",
   "metadata": {},
   "source": [
    "## **Recuperando a stash**"
   ]
  },
  {
   "cell_type": "markdown",
   "metadata": {},
   "source": [
    "* Podemos verificar as stashs criadas pelo comando `git stash list`\n",
    "* Para recuperar a stash podemos utilizar o comando `git stash <id_stash>`\n",
    "    * Esse `id_stash` você verifica com o comando git stash list\n",
    "* Desta maneira podemos continuar de onde paramos com os arquivos adicionados a stash\n",
    "* Boas práticas: criar um branch do que estou e colocar a stash nele, aí não misturaria com o código que estou desenvolvendo. Seria uma branch teste"
   ]
  },
  {
   "cell_type": "markdown",
   "metadata": {},
   "source": [
    "* usando git list → para visualizar as duas stashs que criei\n",
    "* usando git stash apply 0 → para recuperar a stash 0\n",
    "\n",
    "<div>\n",
    "    <img src='imagens/git_stash2.png'\n",
    "</div>"
   ]
  },
  {
   "cell_type": "markdown",
   "metadata": {},
   "source": [
    "## **Removendo a stash**"
   ]
  },
  {
   "cell_type": "markdown",
   "metadata": {},
   "source": [
    "* Para limpar totalmente as stash de um branch podemos utilizar o comando `git stash clear`\n",
    "* Caso seja necessário deletar uma stash específica, basta utilizar `git stash drop <id_stash>`\n",
    "    * Esse `id_stash` você verifica com o comando git stash list\n",
    "* `Cuidado! ` para não perder o código, tem que ter certeza do que está fazendo\n",
    "* Analisar com calma a melhor abordagem:\n",
    "    * É melhor criar uma branch para o código em desenvolvimento?\n",
    "    * É melhor colocar numa stash?\n",
    "    * Vai deletar a branch e criar outra com o mesmo nome?"
   ]
  },
  {
   "cell_type": "markdown",
   "metadata": {},
   "source": [
    "## **Utilizando tags**"
   ]
  },
  {
   "cell_type": "markdown",
   "metadata": {},
   "source": [
    "* A tag serve como um `checkpoint de um branch`. São \"marcos\" conforme vamos avançando no desenvolvimento\n",
    "* Podemos voltar ou avançar nas tags\n",
    "* Podemos criar tags nos branches por meio do comando `git tag -a <nome_tag> -m \"mensagem\"`\n",
    "* É utilizada para desmarcar estágios do desenvolvimento de algum recurso\n",
    "* Geralmente são utilizadas em tarefas maiores\n",
    "* Comando `git tag` para visualizar as tags\n",
    "* Exemplo: se fizermos as tags v1, v2 e v3 de uma funcionalidade (3 versões diferentes)\n",
    "    * A v1 fica mais ou menos, a v2 fica boa e a v3 fica ruim. Com isso, podemos enviar somente a tag v2 para o repositório"
   ]
  },
  {
   "cell_type": "markdown",
   "metadata": {},
   "source": [
    "1. Crio a \"primeira tag\" v1\n",
    "2. Adiciono nova função\n",
    "3. Crio a \"segunda tag\" v2\n",
    "\n",
    "<div>\n",
    "    <img src=\"imagens/git tag.png\">\n",
    "</div>"
   ]
  },
  {
   "cell_type": "markdown",
   "metadata": {},
   "source": [
    "## **Verificando e alterando tags**"
   ]
  },
  {
   "cell_type": "markdown",
   "metadata": {},
   "source": [
    "* Podemos verificar uma tag com o comando `git show <nome_tag>`\n",
    "* Podemos trocar de tags com o comando `git checkout <nome_tag>`\n",
    "* Desta maneira podemos `retroceder ou avançar em checkpoints` de um branch"
   ]
  },
  {
   "cell_type": "markdown",
   "metadata": {},
   "source": [
    "1. Listando as tags com git show\n",
    "2. Visualizando a tag v1\n",
    "\n",
    "<div>\n",
    "    <img src='imagens/git_show.png'>\n",
    "</div>"
   ]
  },
  {
   "cell_type": "markdown",
   "metadata": {},
   "source": [
    "1. Trocando (retrocendendo) para a tag v2\n",
    "2. Trocando (avançando) para a tag v1\n",
    "\n",
    "<div>\n",
    "    <img src='imagens/git_check.png'>\n",
    "</div>"
   ]
  },
  {
   "cell_type": "markdown",
   "metadata": {},
   "source": [
    "## **Enviando e compartilhando tags**"
   ]
  },
  {
   "cell_type": "markdown",
   "metadata": {},
   "source": [
    "* As tags podem ser `enviadas para o repositório`, sendo compartilhada entre os devs. Assim os devs podem acompanhar os estágios do nosso código\n",
    "* O comando para enviar uma tag é `git push origin <nome>` → estamos enviando uma tag de um branch (não o branch inteiro)\n",
    "* Para enviar mais de uma tag `git push origin --tags`"
   ]
  },
  {
   "cell_type": "markdown",
   "metadata": {},
   "source": [
    "1. Enviando para o repositório somente a tag v1\n",
    "2. Enviando para o repositório todas as tags (no caso só tinha a v2)\n",
    "\n",
    "<div>\n",
    "    <img src='imagens/git_tag2.png'>\n",
    "</div>"
   ]
  },
  {
   "cell_type": "markdown",
   "metadata": {},
   "source": []
  }
 ],
 "metadata": {
  "kernelspec": {
   "display_name": "Python 3.9.1 64-bit",
   "language": "python",
   "name": "python3"
  },
  "language_info": {
   "name": "python",
   "version": "3.9.1"
  },
  "orig_nbformat": 4,
  "vscode": {
   "interpreter": {
    "hash": "a590321cf065e4ba3627182a710d1fec05cf87c0ee9fe3c67341e46600c6f479"
   }
  }
 },
 "nbformat": 4,
 "nbformat_minor": 2
}
