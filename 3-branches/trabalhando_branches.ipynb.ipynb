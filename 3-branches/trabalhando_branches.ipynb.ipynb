{
 "cells": [
  {
   "cell_type": "markdown",
   "metadata": {},
   "source": [
    "## **Branches**"
   ]
  },
  {
   "cell_type": "markdown",
   "metadata": {},
   "source": [
    "* Branch é a forma que o git `separa as versões dos projetos`\n",
    "* Quando um projeto é criado ele inicia na branch `main`, que é utilizada somente no começo para fazer inserção de arquivos, estabelecer estrutura de pasta inicial e etc..\n",
    "* Geralmente cada `nova feature` de um projeto `fica em um branch separado`\n",
    "* Após a finalização das alterações os `branchs são unidos` (merge) para ter o código-fonte final \n",
    "* São as `ramificações` que teremos no nosso projeto. Ou seja, cada desenvolvedor vai poder ter sua própria versão (branch) do projeto a partir do código fonte principal"
   ]
  },
  {
   "cell_type": "markdown",
   "metadata": {},
   "source": [
    "## **Criando e visualizando branches**"
   ]
  },
  {
   "cell_type": "markdown",
   "metadata": {},
   "source": [
    "* Para `visualizar` os branches disponíveis basta usar o comando `git branch`\n",
    "* Para criar um branch precisamos utilizar o comando `git branch <nome>`\n",
    "* Estas duas operações são muito utilizadas no dia a dia de um dev"
   ]
  },
  {
   "cell_type": "markdown",
   "metadata": {},
   "source": [
    "* Criando uma branch \"primeira_branch\" que parte da branch que estou (main), ou seja, criou uma cópia da branch main\n",
    "* O ideal `criar branches a partir da branch main`\n",
    "\n",
    "<div>\n",
    "    <img src='imagens/git_branch.png'>\n",
    "</div>"
   ]
  },
  {
   "cell_type": "markdown",
   "metadata": {},
   "source": [
    "## **Deletando branches**"
   ]
  },
  {
   "cell_type": "markdown",
   "metadata": {},
   "source": [
    "* Podemos deletar um branch com a flag `-d` ou `--delete`\n",
    "* `NÃO é comum deletar um branch`, normalmente guardamos o histórico do trabalho\n",
    "* Geralmente se usa o delete quando o branch foi criado errado\n",
    "* Exemplo: git branch -d <nome_branch>\n",
    "    * git branch -d primeiro_branch"
   ]
  },
  {
   "cell_type": "markdown",
   "metadata": {},
   "source": [
    "## **Mudando de branch**"
   ]
  },
  {
   "cell_type": "markdown",
   "metadata": {},
   "source": [
    "* Para `mudar` para outro branch utiliza-se o comando `git checkout <nome_branch>`\n",
    "* Para `criar uma branch e mudar` para ela utiliza-se o comando `git checkout -b <nome_nova_branch>`\n",
    "    * Quando criamos uma branch, ela é criada com base na branch atual. O ideal é partir da branch main\n",
    "* `Cuidado!` Alterando o branch podemos levar alterações que não foram commitadas junto\n",
    "    * Precisamos commitar antes de mudar de branch\n",
    "    * Ficar de olho no git status quando for mudar de branch\n",
    "    * Se alterar arquivos -> não comitar -> mudar de branch:\n",
    "        * Arquivos não comitados irão para branch nova e na antiga serão apagados\n",
    "* Pq criar branches?\n",
    "    * Pois não queremos mesclar o código que está sendo feito com o código fonte (main). Precisamos validar antes de levar as atualização novas para o branch main, dessa forma, podemos realizar a validação de forma isolada\n",
    "    * Muda-se de branch para não \"sujar\" a branch main\n",
    "* A ideia é criar as funcionalidades em branches separadas e depois `unir essa branch` nova com a main. Ou seja, desenvolver em outro branch e depois unir as modificações com a main\n",
    "* Boas práticas\n",
    "    * Commitar tudo\n",
    "    * Sair do branch atual\n",
    "    * Ir para a branch main/origem\n",
    "    * Fazer um git pull\n",
    "    * Usar o git checkout -b nome_nova_branch (cópia da main)"
   ]
  },
  {
   "cell_type": "markdown",
   "metadata": {},
   "source": [
    "## **Unindo branches**"
   ]
  },
  {
   "cell_type": "markdown",
   "metadata": {},
   "source": [
    "* O código de dois branches distintos pode ser unido pelo comando `git merge <nome_branch>` → O branch atual se une com o branch escolhido\n",
    "    * Se eu estiver na branch main e der um comando 'git merge funcionalidadeA', estarei trazendo a funcionalidadeA para a main\n",
    "* É um comando `muito` utilizado\n",
    "* Normalmente é por meio dos \"merges\" que recebemos as atualização de outros devs\n",
    "* O Tech lead usa esse recurso para atualizar a main\n",
    "* Se não sou o responsável pelo projeto, devo:\n",
    "    * Atualizar o meu branch com a main (versão atual do projeto)\n",
    "    * Para isso, usar o comando `git merge main`\n",
    "* Nunca dar um merge na branch main com outro branch → Dificilmente vamos atualizar nosso repositório usando a main\n",
    "* Tomar cuidado, `não atualizar a main` diretamente com um git push"
   ]
  }
 ],
 "metadata": {
  "kernelspec": {
   "display_name": "Python 3.9.1 64-bit",
   "language": "python",
   "name": "python3"
  },
  "language_info": {
   "name": "python",
   "version": "3.9.1"
  },
  "orig_nbformat": 4,
  "vscode": {
   "interpreter": {
    "hash": "a590321cf065e4ba3627182a710d1fec05cf87c0ee9fe3c67341e46600c6f479"
   }
  }
 },
 "nbformat": 4,
 "nbformat_minor": 2
}
