{
 "cells": [
  {
   "cell_type": "markdown",
   "metadata": {},
   "source": [
    "## **Limpando arquivos untracked**"
   ]
  },
  {
   "cell_type": "markdown",
   "metadata": {},
   "source": [
    "* Comando `git clean -f` vai verificar e limpar arquivos não trackeados, ou seja, arquivos que não foram adicionados com o git add\n",
    "* Exemplo: pode ser utilizado para arquivos que são gerados automaticamente e atrapalham a visualização do que realmente é importante"
   ]
  },
  {
   "cell_type": "markdown",
   "metadata": {},
   "source": [
    "* Usando o comando `git clean -f` excluímos os arquivos que ainda não foram adicionados com o git add\n",
    "\n",
    "<div>\n",
    "    <img src='imagens/git_clean.png'>\n",
    "</div>"
   ]
  },
  {
   "cell_type": "markdown",
   "metadata": {},
   "source": [
    "## **Otimizando o repositório**"
   ]
  },
  {
   "cell_type": "markdown",
   "metadata": {},
   "source": [
    "* O comando `git gc` é uma abreviação para `garbage collector`\n",
    "* Ele identifica arquivos que `não são mais necessários` e os exclui\n",
    "* Isso fará com que o repositório seja otimizado em questões de `performance`\n",
    "* Otimiza e \"limpa\" o git, é um comando interessante de usar de vez em quando, pois dessa forma o git para de ficar monitorando arquivos desnecessários\n",
    "* Comando `git fsck` para verificar se tem algum arquivo corrompido"
   ]
  },
  {
   "cell_type": "markdown",
   "metadata": {},
   "source": [
    "## **Transformando o repo para arquivo**"
   ]
  },
  {
   "cell_type": "markdown",
   "metadata": {},
   "source": [
    "* O ideal é passar o clone, porém pode ser necessário passar o arquivo compactado\n",
    "* Comando `git archive` transforma o repo em um arquivo compactado\n",
    "* `git archive --format zip --output main_files.zip main`\n",
    "    * Com isso a master vai estar zipada no arquivo `master_files.zip`\n"
   ]
  },
  {
   "cell_type": "markdown",
   "metadata": {},
   "source": [
    "## **Reflog**"
   ]
  },
  {
   "cell_type": "markdown",
   "metadata": {},
   "source": [
    "* Para mapear todos os passos no repositório usamos o comando (log bem completo):\n",
    "    * `git reflog`\n",
    "    * Ficam salvos até expirar que por padrão é o prazo de 30 dias;\n",
    "    * Mas, tem como configurar o prazo de expiração;\n",
    "* Podemos voltar/avançar no código usando o comando:\n",
    "    * `git reset --hard <hash de cada mudança>`\n",
    "    * O comando git reflog auxilia quando mostra a hash das alterações;"
   ]
  },
  {
   "cell_type": "markdown",
   "metadata": {},
   "source": [
    "## **Dando push em arquivos grandes**"
   ]
  },
  {
   "cell_type": "markdown",
   "metadata": {},
   "source": [
    "* Git LFS (Large File Storage)\n",
    "    * extensão para trackear e comprimir arquivos grandes\n",
    "1. Fazer download do Git LFS `https://git-lfs.github.com/`\n",
    "2. Usar o comando `git lfs install`\n",
    "3. Indicar para o Git LFS qual arquivo ele deve monitorar para ele conseguir comprimir e enviar para o servidor remoto `git lfs track <caminho_arquivo>`\n",
    "    * Exemplo: git lfs track arquivos_dra/DRA-Dados2022-10-11-13-40.csv\n",
    "4. Um arquivo \".gitattributes\" será adicionado a pasta e mostrará os arquivos que está monitorando\n",
    "\n",
    "<div>\n",
    "    <img src='imagens/git_lfs.png'>\n",
    "</div>"
   ]
  },
  {
   "cell_type": "markdown",
   "metadata": {},
   "source": []
  }
 ],
 "metadata": {
  "kernelspec": {
   "display_name": "Python 3.9.1 64-bit",
   "language": "python",
   "name": "python3"
  },
  "language_info": {
   "name": "python",
   "version": "3.9.1"
  },
  "orig_nbformat": 4,
  "vscode": {
   "interpreter": {
    "hash": "a590321cf065e4ba3627182a710d1fec05cf87c0ee9fe3c67341e46600c6f479"
   }
  }
 },
 "nbformat": 4,
 "nbformat_minor": 2
}
