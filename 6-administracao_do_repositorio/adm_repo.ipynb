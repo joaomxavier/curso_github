{
 "cells": [
  {
   "cell_type": "markdown",
   "metadata": {},
   "source": [
    "## **Limpando arquivos untracked**"
   ]
  },
  {
   "cell_type": "markdown",
   "metadata": {},
   "source": [
    "* Comando `git clean -f` vai verificar e limpar arquivos não trackeados, ou seja, arquivos que não foram adicionados com o git add\n",
    "* Exemplo: pode ser utilizado para arquivos que são gerados automaticamente e atrapalham a visualização do que realmente é importante"
   ]
  }
 ],
 "metadata": {
  "language_info": {
   "name": "python"
  },
  "orig_nbformat": 4
 },
 "nbformat": 4,
 "nbformat_minor": 2
}
