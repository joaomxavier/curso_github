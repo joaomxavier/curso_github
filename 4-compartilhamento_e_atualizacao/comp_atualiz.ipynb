{
 "cells": [
  {
   "cell_type": "markdown",
   "metadata": {},
   "source": [
    "## **Encontrando branches**"
   ]
  },
  {
   "cell_type": "markdown",
   "metadata": {},
   "source": [
    "* Branches novas são criadas o tempo todo e o `seu git pode não estar mapeando eles`\n",
    "* Com o comando `git fetch -a` posso ser atualizado de todos os branches e tags que ainda não estão reconhecidos por mim\n",
    "* É utilizado quando as branches são colaborativas, ou seja, dois devs trabalhando na mesma funcionalidade. Este comando é útil para utilizar o branch de algum outro dev do time.\n",
    "* Exemplo: Dev 1 cria uma nova branch para desenvolver uma funcionalidade. O dev 2 usa o comando `git fetch -a` para poder visualizar e utilizar essa nova branch criada pelo dev 1. Com isso, o dev 2 pode realizar modificações na branch e enviar com git push. Caso o dev 1 queira ver a modificações do dev 2, pode utilizar o git pull"
   ]
  },
  {
   "cell_type": "markdown",
   "metadata": {},
   "source": [
    "* Dev cria uma nova branch \"funcao_rentabilidade\", desenvolve a nova funcionalidade, commita e da um push\n",
    "\n",
    "<div>\n",
    "    <img src='imagens/git1.png'>\n",
    "</div>"
   ]
  },
  {
   "cell_type": "markdown",
   "metadata": {},
   "source": [
    "* Outro Dev deseja visualizar essa nova branch \"funcao_rentabilidade\" criada pelo primeiro dev, então usa o comando `git fetch -a` para conseguir visualizar e usar essa nova branch\n",
    "\n",
    "<div>\n",
    "    <img src='imagens/git_fetch.png'>\n",
    "</div>"
   ]
  },
  {
   "cell_type": "markdown",
   "metadata": {},
   "source": [
    "* Fluxo Resumido:\n",
    "    * Outro Dev cria um branch e envia para o repositório\n",
    "    * Eu faço um git fetch -a para ver as branches criadas no repositório\n",
    "    * Eu acesso as branches e faço as alterações necessárias\n",
    "    * Faço um git push e comunico o meu colega\n",
    "    * Meu colega acessa o repositório e faz um git pull para ver as atualizações que fiz"
   ]
  },
  {
   "cell_type": "markdown",
   "metadata": {},
   "source": [
    "* Como saber todas as branches que existem? usar o comando `git branch -r`\n",
    "\n",
    "<div>\n",
    "    <img src='imagens/git_b_r.png'>\n",
    "</div>"
   ]
  },
  {
   "cell_type": "markdown",
   "metadata": {},
   "source": [
    "## **Recebendo alterações**"
   ]
  },
  {
   "cell_type": "markdown",
   "metadata": {},
   "source": [
    "* O comando `git pull` serve para recebermos atualizações do repositório remoto\n",
    "* Cada branch pode ser atualizado com o git pull\n",
    "* Utilizamos para atualizar a main do repo como também quando trabalhamos em conjunto e queremos receber as atualizações de um dev\n",
    "* `Importante:` se estou desenvolvendo algo e a main foi atualizada, preciso dar um merge antes de terminar, pois isso pode gerar conflitos ou o que alguém fez pode prejudicar o que eu estava fazendo"
   ]
  },
  {
   "cell_type": "markdown",
   "metadata": {},
   "source": [
    "* Sempre que o dev começa a trabalhar deve ir na main \"git checkout main\" e dar um pull \"git pull\". Depois disso, pode criar ou continuar com algum branch \"git checkout -b nome_branch\". Terminando a tarefa pode commitar \"git commit -a -m ''\" e por fim um push \"git push\" \n",
    "\n",
    "<div>\n",
    "    <img src='imagens/etapa1.png'>\n",
    "</div>"
   ]
  },
  {
   "cell_type": "markdown",
   "metadata": {},
   "source": [
    "* Supondo que o dev principal precisa atualizar a main com a funcionalidade nova criada por outro dev: ir para a branch main \"git checkout main\", dar um pull \"git pull\". Depois de estar na main, dar um merge com o novo branch \"git merge origin/nome_branch\". Depois de atualizar a main com o novo branch, o dev principal pode dar um git push \"git push\", assim, atualizando a main."
   ]
  },
  {
   "cell_type": "markdown",
   "metadata": {},
   "source": [
    "## **Enviando alterações**"
   ]
  },
  {
   "cell_type": "markdown",
   "metadata": {},
   "source": [
    "* O comando `git push` envia as alterações para o repo remoto\n",
    "* Serve para `enviar as atualizações de um branch específico` para um outro dev\n",
    "* Ou quando terminamos uma tarefa e precisamos enviar ao repo"
   ]
  },
  {
   "cell_type": "markdown",
   "metadata": {},
   "source": [
    "## **Utilizando o remote**"
   ]
  },
  {
   "cell_type": "markdown",
   "metadata": {},
   "source": [
    "* Usamos o git remote para trackear ou remover o link do repo\n",
    "* O comando `git remote -v` mostra o link da origem\n",
    "* O comando `git remote rm origin <link>` remove a origem\n",
    "* O comando `git remote add origin <link>` adiciona o link de origem do repositório remoto"
   ]
  },
  {
   "cell_type": "markdown",
   "metadata": {},
   "source": [
    "## **Trabalhando com submódulos**"
   ]
  },
  {
   "cell_type": "markdown",
   "metadata": {},
   "source": [
    "* Submódulo é a forma de termos `2 ou mais projetos em um só repositório`\n",
    "* Para adicionar o submódulo utilizamos o comando `git submodule add <link_repo> <nome_submodulo>`\n",
    "* Para verificar os submódulos usar o comando `git submodule`\n",
    "* A ideia é usar como se fosse uma biblioteca. Com isso, conseguimos ter um projeto de git dentro do outro\n",
    "* Dois projetos que funcionam juntos (um depende do outro), mas são entidades independentes, ou seja, cada um tem seu repositório\n",
    "* Exemplo: submodulo de back-end e outro de front-end"
   ]
  },
  {
   "cell_type": "markdown",
   "metadata": {},
   "source": [
    "* Utilizar o comando `git submodule add https://github.com/joaomxavier/submodulo.git nome_submodulo` (link do clone)\n",
    "* Para visualizar os submodulos `git submodule`\n",
    "* Para `atualizar` o submodulo `cd nome_submodulo` e depois um `git pull`\n",
    "    * Entra na pasta do submodulo e da um git pull"
   ]
  },
  {
   "cell_type": "markdown",
   "metadata": {},
   "source": [
    "## **Atualizando o submódulo**"
   ]
  },
  {
   "cell_type": "markdown",
   "metadata": {},
   "source": [
    "* Podemos `atualizar` o submódulo, ou seja, fazer alterações no código e atualizar o repositório do submódulo\n",
    "* Para atualizar um submódulo devemos `commitar as mudanças` (igual qualquer branch)\n",
    "* E enviar as mudanças para o repo do submódulo utilizando o comando `git push --recurse-submodule=on-demand`\n",
    "    * Com as atualizações do git, da para usar apenas o comando `git push`\n",
    "* Este fluxo fará a atualização `apenas do submódulo`"
   ]
  }
 ],
 "metadata": {
  "kernelspec": {
   "display_name": "Python 3.10.5 64-bit",
   "language": "python",
   "name": "python3"
  },
  "language_info": {
   "name": "python",
   "version": "3.10.5"
  },
  "orig_nbformat": 4,
  "vscode": {
   "interpreter": {
    "hash": "2765143a23a2248ffb34e679751b02069243b5cebfc1f82e19b1c6754ea52f07"
   }
  }
 },
 "nbformat": 4,
 "nbformat_minor": 2
}
