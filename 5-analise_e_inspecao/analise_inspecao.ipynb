{
 "cells": [
  {
   "cell_type": "markdown",
   "metadata": {},
   "source": [
    "## **Exibindo detalhes de branches**"
   ]
  },
  {
   "cell_type": "markdown",
   "metadata": {},
   "source": [
    "* Conseguimos verificar detalhadamente as mudanças de um branch ou tag através do comando `git show`. Este comando nos dá informações do branch atual e também `seus commits`\n",
    "* As `modificações de arquivos` entre cada commit também são exibidas\n",
    "* Podemos exibir as informações de tags com o comando `git show <nome_tag>`"
   ]
  },
  {
   "cell_type": "markdown",
   "metadata": {},
   "source": [
    "<div>\n",
    "    <img src='imagens/git_show.png'>\n",
    "</div>"
   ]
  },
  {
   "cell_type": "markdown",
   "metadata": {},
   "source": []
  }
 ],
 "metadata": {
  "language_info": {
   "name": "python"
  },
  "orig_nbformat": 4
 },
 "nbformat": 4,
 "nbformat_minor": 2
}
