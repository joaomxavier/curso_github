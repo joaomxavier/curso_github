{
 "cells": [
  {
   "cell_type": "markdown",
   "metadata": {},
   "source": [
    "## **Exibindo detalhes de branches**"
   ]
  },
  {
   "cell_type": "markdown",
   "metadata": {},
   "source": [
    "* Conseguimos verificar detalhadamente as mudanças de um branch ou tag através do comando `git show`. Este comando nos dá informações do branch atual e também `seus commits`\n",
    "* As `modificações de arquivos` entre cada commit também são exibidas\n",
    "* Podemos exibir as informações de tags com o comando `git show <nome_tag>`"
   ]
  },
  {
   "cell_type": "markdown",
   "metadata": {},
   "source": [
    "<div>\n",
    "    <img src='imagens/git_show.png'>\n",
    "</div>"
   ]
  },
  {
   "cell_type": "markdown",
   "metadata": {},
   "source": [
    "## **Exibindo diferenças**"
   ]
  },
  {
   "cell_type": "markdown",
   "metadata": {},
   "source": [
    "* O comando `git diff` serve para exibir as `diferenças` de um branch\n",
    "    * As diferenças do branch atual com o remoto serão exibidas no terminal\n",
    "    * No momento em que incrementamos um código, podemos utilizar esse comando para visualizar as diferenças\n",
    "* Caso a gente crie uma branch para desenvolver novas funcionalidades, podemos usar o comando `git diff main` para verificar as diferenças da branch atual com a main\n",
    "* Comando `git diff nome_branch` para visualizar as diferenças entre a branch atual e a branch passada no comando\n",
    "* Se eu utilizar o comando `git diff` e não retornar nada significa que `não tem diferença`\n",
    "* Podemos também verificar a diferença entre arquivos `git diff <arquivo_a> <arquivo_b>`\n",
    "    * Se eu quiser visualizar a diferença entre um arquivo do repositório e um arquivo da minha máquina posso usar o comando `git diff HEAD:a.txt a.txt` → o \"HEAD\" na frente indica o arquivo do repositório remoto."
   ]
  },
  {
   "cell_type": "markdown",
   "metadata": {},
   "source": [
    "## **Log resumido**"
   ]
  },
  {
   "cell_type": "markdown",
   "metadata": {},
   "source": [
    "* Comando `git shortlog` retorna um log resumido do projeto\n",
    "* Agrupa os commits por `nome do autor`\n",
    "    * Podemos saber quais commits foram enviados ao projeto e por quem"
   ]
  },
  {
   "cell_type": "markdown",
   "metadata": {},
   "source": []
  }
 ],
 "metadata": {
  "language_info": {
   "name": "python"
  },
  "orig_nbformat": 4
 },
 "nbformat": 4,
 "nbformat_minor": 2
}
