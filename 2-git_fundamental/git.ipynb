{
 "cells": [
  {
   "cell_type": "markdown",
   "metadata": {},
   "source": [
    "## **O que é um Repositório?**"
   ]
  },
  {
   "cell_type": "markdown",
   "metadata": {},
   "source": [
    "* É o local onde o código é `armazenado`\n",
    "* Na maioria das vezes, cada projeto tem `um repositório`\n",
    "* Quando criamos um repositório estamos iniciando um projeto\n",
    "* O repositório pode ir para servidores que são especializados em gerenciar repos, como: Github e Bitbucket\n",
    "    * Performance, segurança, organização e manutenção\n",
    "* Cada um dos desenvolvedores do time pode baixar o repositório e `criar versões diferentes` em sua máquina"
   ]
  },
  {
   "cell_type": "markdown",
   "metadata": {},
   "source": [
    "## **Criando repositórios**"
   ]
  },
  {
   "cell_type": "markdown",
   "metadata": {},
   "source": [
    "* Para criar repositório utiliza-se o comando `git init`\n",
    "    * O git vai criar os aquivos necessários para inicializá-lo (pasta oculta `.git`)\n",
    "* Após este comando, o diretório atual `será reconhecido pelo git como um projeto` e responderá aos demais comandos"
   ]
  },
  {
   "cell_type": "markdown",
   "metadata": {},
   "source": [
    "## **Enviando repositórios para o GitHub**"
   ]
  },
  {
   "cell_type": "markdown",
   "metadata": {},
   "source": [
    "* Precisamos criar o projeto no Github, inicializar o mesmo no git em nossa máquina, sincronizar com o GH e enviar\n",
    "1. Criar um repositório no Github pelo navegador\n",
    "2. Dar um 'git bash' na pasta local\n",
    "3. Comando 'git init' para criar a pasta '.git' \n",
    "4. Abrir a pasta no VScode\n",
    "5. Criar arquivos e pastas\n",
    "6. Comando 'git add <<arquivo>nome_arquivo>'\n",
    "7. Comando 'git commit -m \"Hello world\"'\n",
    "8. Comando 'git branch -M main' para criar a branch main\n",
    "9. Comando 'git remote add origin https://github.com/joaomxavier/git_first_repo.git (nome do repositório)' adicionando a origem do repositório\n",
    "10. Comando 'git push -u origin main' para dar o push na branch main"
   ]
  },
  {
   "cell_type": "markdown",
   "metadata": {},
   "source": [
    "## **Verificando mudanças no projeto**"
   ]
  },
  {
   "cell_type": "markdown",
   "metadata": {},
   "source": [
    "* As mudanças do projeto podem ser verificadas por `git status`\n",
    "    * Este comando é utilizado `muito frequentemente`\n",
    "* São mapeadas todas as alterações do projeto, como `arquivos não monitorados e arquivos modificados`\n",
    "* É a `diferença` do que já está enviado ao servidor ou salvo no projeto"
   ]
  },
  {
   "cell_type": "markdown",
   "metadata": {},
   "source": [
    "* Exemplo em que houve uma mudança no arquivo 'teste.txt' e dois arquivos novos foram adicionados 'index.html' e 'css'\n",
    "* Changes not staged for commit: Mudanças em algum arquivo já existente no GH\n",
    "* Untrackes files: arquivos não presentes no repositório do GH\n",
    "\n",
    "<div>\n",
    "    <img src='imagens/git_status.png'>\n",
    "</div>"
   ]
  },
  {
   "cell_type": "markdown",
   "metadata": {},
   "source": [
    "## **Adicionando arquivos ao projeto**"
   ]
  },
  {
   "cell_type": "markdown",
   "metadata": {},
   "source": [
    "* Para adicionar arquivos novos a um projeto utiliza-se `git add`\n",
    "* Podemos atualizar `um arquivo` específico como também `vários de uma só vez`\n",
    "* Somente adicionando arquivos eles serão monitorados pelo git, ou seja, `se não adicionar ele não estará no controle de versão`\n",
    "* É interessante utilizar este comando de tempos em tempos para não perder algo por descuido\n",
    "* Utilizar o comando `git add .` para adicionar `TODOS` os arquivos de uma só vez"
   ]
  },
  {
   "cell_type": "markdown",
   "metadata": {},
   "source": [
    "* Utilizando o comando git add 'index.html' e git add 'css/style.css' para adicionar os arquivos untracked\n",
    "\n",
    "<div>\n",
    "    <img src='imagens/git_add.png'>\n",
    "</div>"
   ]
  },
  {
   "cell_type": "markdown",
   "metadata": {},
   "source": [
    "## **Salvando alterações do projeto**"
   ]
  },
  {
   "cell_type": "markdown",
   "metadata": {},
   "source": [
    "* Comando `git commit` para salvar as alterações do projeto\n",
    "    * O commit vai \"\"trackear\"\" os arquivos\n",
    "* Podemos commitar `arquivos específicos` ou vários de uma vez com a flag `-a`\n",
    "* É uma boa prática enviar `uma mensagem a cada commit`, com as alterações que foram feitas\n",
    "* A mensagem pode ser adicionada com a flag `-m`"
   ]
  },
  {
   "cell_type": "markdown",
   "metadata": {},
   "source": [
    "* Usando git commit a.txt -m \"adicionando arquivo de texto\"\n",
    "* Com esse comando, o arquivo a.txt foi \"comitado\", então está ok\n",
    "\n",
    "<div>\n",
    "    <img src='imagens/git_commit.png'>\n",
    "</div>\n",
    "\n",
    "* Para dar commit em todos os arquivos: `git commit -a -m \"enviando funcionalidade x\"`"
   ]
  },
  {
   "cell_type": "markdown",
   "metadata": {},
   "source": [
    "* Depois dos 2 commits, o git status nos mostra que a nossa branch está a frente do main (master) por 2 commits\n",
    "\n",
    "<div>\n",
    "    <img src='imagens/git_commit2.png'>\n",
    "</div>"
   ]
  },
  {
   "cell_type": "markdown",
   "metadata": {},
   "source": [
    "## **Enviando código ao repo remoto**"
   ]
  },
  {
   "cell_type": "markdown",
   "metadata": {},
   "source": [
    "* Quando finalizamos uma funcionalidade nova, `enviamos o código ao repositório remoto`, que é código-fonte\n",
    "* Esta ação é feita pelo `git push`\n",
    "* Após esta ação `o código do servidor será atualizado baseando-se no código local` enviado"
   ]
  },
  {
   "cell_type": "markdown",
   "metadata": {},
   "source": [
    "<div>\n",
    "    <img src='imagens/git_push.png'>\n",
    "</div>"
   ]
  },
  {
   "cell_type": "markdown",
   "metadata": {},
   "source": [
    "* No GH, eu posso visualizar todos os commits da seguinte maneira:\n",
    "\n",
    "<div>\n",
    "    <img src='imagens/git_push2.png'>\n",
    "</div>\n",
    "\n",
    "<div>\n",
    "    <img src='imagens/git_push3.png'>\n",
    "</div>"
   ]
  },
  {
   "cell_type": "markdown",
   "metadata": {},
   "source": [
    "## **Recebendo as mudanças**"
   ]
  },
  {
   "cell_type": "markdown",
   "metadata": {},
   "source": [
    "* É comum ter que `sincronizar o local` com as mudanças do remoto\n",
    "* Esta ação é feita pelo `git pull`\n",
    "* Após o comando serão `buscadas atualizações`, se encontradas elas `serão unidas ao código atual` existente na nossa máquina\n",
    "* É utilizado quando alguém lança uma feature nova, com isso, o resto do time precisa da um pull para pegar essa nova feature"
   ]
  },
  {
   "cell_type": "markdown",
   "metadata": {},
   "source": [
    "* Basta usar o comando \"git pull\" para puxar os arquivos no repositório remoto do GH para o local\n",
    "\n",
    "<div>\n",
    "    <img src='imagens/git_pull.png'>\n",
    "</div>"
   ]
  },
  {
   "cell_type": "markdown",
   "metadata": {},
   "source": [
    "## **Clonando repositórios**"
   ]
  },
  {
   "cell_type": "markdown",
   "metadata": {},
   "source": [
    "* `Clonar repositório` é o ato de baixar um repositório de um servidor remoto\n",
    "* Comando `git clone`\n",
    "* Passar a `referência` do repositório remoto\n",
    "* Este comando é utilizado quando `entramos em um novo projeto`, por exemplo. Ou quando entra uma pessoa nova no time, ele precisa clonar o repositório remoto"
   ]
  },
  {
   "cell_type": "markdown",
   "metadata": {},
   "source": [
    "* Comando \"`git clone https://github.com/joaomxavier/git_first_repo.git .`\"\n",
    "* O \".\" no final indica que é pra clonar no diretório local"
   ]
  },
  {
   "cell_type": "markdown",
   "metadata": {},
   "source": [
    "<div>\n",
    "    <img src='imagens/git_clone.png'>\n",
    "</div>"
   ]
  },
  {
   "cell_type": "markdown",
   "metadata": {},
   "source": [
    "## **Removendo arquivos do repositório**"
   ]
  },
  {
   "cell_type": "markdown",
   "metadata": {},
   "source": [
    "* Os arquivos podem ser deletados da monitoração do git\n",
    "* O comando para deletar é `git rm`\n",
    "* Após deletar um arquivo do git ele não terá mais suas atualizações consideradas pelo git\n",
    "* Apenas quando for adicionando novamente pelo `git add`"
   ]
  },
  {
   "cell_type": "markdown",
   "metadata": {},
   "source": [
    "* Processo de deletar arquivo e dar push\n",
    "\n",
    "<div>\n",
    "    <img src='imagens/git_rm.png'>\n",
    "</div>"
   ]
  },
  {
   "cell_type": "markdown",
   "metadata": {},
   "source": [
    "## **Histórico de alteração - Verificando alterações por meio de log**"
   ]
  },
  {
   "cell_type": "markdown",
   "metadata": {},
   "source": [
    "* Podemos `acessar um log` de modificações feitas no projeto\n",
    "* O comando para este recurso é `git log`\n",
    "* Você receberá uma informação dos commits realizados no projeto até então"
   ]
  },
  {
   "cell_type": "markdown",
   "metadata": {},
   "source": [
    "* Mostra o log do mais recente para o mais antigo\n",
    "    * Data, hora, mensagem do commit e autor\n",
    "\n",
    "<div>\n",
    "    <img src='imagens/git_log.png'>\n",
    "</div>"
   ]
  },
  {
   "cell_type": "markdown",
   "metadata": {},
   "source": [
    "## **Renomeando arquivos**"
   ]
  },
  {
   "cell_type": "markdown",
   "metadata": {},
   "source": [
    "* Com o comando `git mv` podemos renomear um arquivo\n",
    "* O mesmo também pode ser `movido para outra pasta`\n",
    "* E isso fará com que este novo arquivo seja `monitorado pelo git`\n",
    "* O arquivo anterior é `excluído`\n",
    "* É como se fosse um \"control X\""
   ]
  },
  {
   "cell_type": "markdown",
   "metadata": {},
   "source": [
    "* Usando o comando `git mv style2.css css/style_file.css` para mover o arquivo \"style2.css\" para dentro da pasta \"css\" e renomeando o arquivo para \"style_file.css\""
   ]
  },
  {
   "cell_type": "markdown",
   "metadata": {},
   "source": [
    "## **Desfazendo alterações**"
   ]
  },
  {
   "cell_type": "markdown",
   "metadata": {},
   "source": [
    "* O arquivo modificado por ser `retornado ao estado original`, que é o estado em que ele está no GH. Ou seja, é como se não tivessemos feito nada no arquivo ('resetar o arquivo')\n",
    "* O comando utilizado é o `git checkout`\n",
    "* Exemplo: alguém mexeu bastante num arquivo, mas não está dando certo e quer recomeçar do arquivo original \n",
    "* Após a utilização do comando, o arquivo sai do staging\n",
    "* Caso seja feita uma próxima alteração, ele entra no staging novamente"
   ]
  },
  {
   "cell_type": "markdown",
   "metadata": {},
   "source": [
    "* Modifiquei o arquivo css/style.css, porém quero voltar para o estado original (git status para verificar a mudança no arquivo). Então dei o comando 'git checkout css/style.css' para voltar ao estado original, sem mudanças. Após o comando, se eu der um 'git status', o arquivo de fato sai do staging e volta ao estado original.\n",
    "\n",
    "<div>\n",
    "    <img src='imagens/git_checkout.png'>\n",
    "</div>"
   ]
  },
  {
   "cell_type": "markdown",
   "metadata": {},
   "source": [
    "## **Ignorando arquivos no projeto**"
   ]
  },
  {
   "cell_type": "markdown",
   "metadata": {},
   "source": [
    "* Ignorar arquivos no projeto é uma técnica bastante utilizada\n",
    "* Para isso, devemos inserir um arquivo chamado `.gitignore` no projeto\n",
    "* Nele podemos inserir todos os arquivos que não devem entrar no versionamento\n",
    "* Isso é útil para `arquivos gerados automaticamente` ou arquivos que contém `informações sensiveis`"
   ]
  },
  {
   "cell_type": "markdown",
   "metadata": {},
   "source": [
    "* Ignorando o arquivo c.txt e todo o conteúdo da pasta node_modules\n",
    "* Ideal é primeiro inserir o nome do arquivo a ser ignorado em '.gitignore' e depois inserir o arquivo ignorado no projeto\n",
    "* Quando ignoramos um arquivo, não precisar dar add, commit e nem push\n",
    "\n",
    "<div>\n",
    "    <img src='imagens/git_ignore.png'>\n",
    "</div>"
   ]
  },
  {
   "cell_type": "markdown",
   "metadata": {},
   "source": [
    "## **Desfazendo todas as alterações**"
   ]
  },
  {
   "cell_type": "markdown",
   "metadata": {},
   "source": [
    "* Com o comando `git reset` podemos resetar as mudanças feitas → Perde todas as alterações (staging) e commits\n",
    "* Geralmente é utilizado com flag `--hard`\n",
    "* Faz com que todas as alterações `commitadas` e `também as pendentes` sejam excluídas\n",
    "* Quando já fizemos bastante commit, porém não foi dado o 'push' ainda. Ou seja, queremos partir do zero em relação a um branch. \"Começar do zero\""
   ]
  },
  {
   "cell_type": "markdown",
   "metadata": {},
   "source": [
    "* `git reset --hard origin/main`, para resetar a branch main e voltar para o último commit\n",
    "* Neste caso eu tinha um commit e um arquivo com modificações e resetei para o último commit \"Removendo arquivos de node_modules\"\n",
    "\n",
    "<div>\n",
    "    <img src='imagens/git_reset.png'>\n",
    "</div>"
   ]
  },
  {
   "cell_type": "markdown",
   "metadata": {},
   "source": []
  }
 ],
 "metadata": {
  "kernelspec": {
   "display_name": "Python 3.10.5 64-bit",
   "language": "python",
   "name": "python3"
  },
  "language_info": {
   "name": "python",
   "version": "3.10.5"
  },
  "orig_nbformat": 4,
  "vscode": {
   "interpreter": {
    "hash": "2765143a23a2248ffb34e679751b02069243b5cebfc1f82e19b1c6754ea52f07"
   }
  }
 },
 "nbformat": 4,
 "nbformat_minor": 2
}
