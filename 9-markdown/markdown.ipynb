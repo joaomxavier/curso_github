{
 "cells": [
  {
   "cell_type": "markdown",
   "metadata": {},
   "source": [
    "## **Markdown**"
   ]
  },
  {
   "cell_type": "markdown",
   "metadata": {},
   "source": [
    "* É uma forma de adicionar estilo a textos na web\n",
    "* Exemplo de arquivo markdown: `README.md`\n",
    "    * Extensão `md`\n",
    "* Fornece uma `melhor experiência para o usuário` nas `documentações`"
   ]
  },
  {
   "cell_type": "markdown",
   "metadata": {},
   "source": [
    "## **Cabeçalhos**"
   ]
  },
  {
   "cell_type": "markdown",
   "metadata": {},
   "source": [
    "* Os `cabeçalhos em markdown` são determinados pelo símbolo `#`\n",
    "* '#' → h1\n",
    "* '##' → h2\n",
    "* '###' → h3\n",
    "* '####' → h4"
   ]
  },
  {
   "cell_type": "markdown",
   "metadata": {},
   "source": [
    "## **Ênfase ao texto**"
   ]
  },
  {
   "cell_type": "markdown",
   "metadata": {},
   "source": [
    "* Temos símbolos que podem dar `ênfase ao texto`\n",
    "* `Negrito`: `**texto**` ou `__texto__`\n",
    "* `Itálico`: `*texto*` ou `_texto_`"
   ]
  },
  {
   "cell_type": "markdown",
   "metadata": {},
   "source": [
    "## **Listas**"
   ]
  },
  {
   "cell_type": "markdown",
   "metadata": {},
   "source": [
    "* Listas `ordenadas`\n",
    "    * As listas ordenadas começam com '1. item'\n",
    "        1. item 1\n",
    "        2. item 2\n",
    "        3. item 3\n",
    "* Listas `não ordenadas`\n",
    "    * Os itens começam com um '* item'\n",
    "        * item 1\n",
    "        * item 2\n",
    "        * item 3\n"
   ]
  },
  {
   "cell_type": "markdown",
   "metadata": {},
   "source": [
    "## **Imagens**"
   ]
  },
  {
   "cell_type": "markdown",
   "metadata": {},
   "source": [
    "* Usando a sintaxe `![Texto alternativo](link da imagem)`\n",
    "* A imagem pode `estar no repo` ou `ser externa`"
   ]
  },
  {
   "cell_type": "markdown",
   "metadata": {},
   "source": [
    "* Imagem do repo\n",
    "\n",
    "![Git clean](imagens/git_clean.png)"
   ]
  },
  {
   "cell_type": "markdown",
   "metadata": {},
   "source": [
    "* Imagem externa\n",
    "\n",
    "![Logo Python](https://www.python.org/static/community_logos/python-logo-master-v3-TM-flattened.png)"
   ]
  },
  {
   "cell_type": "markdown",
   "metadata": {},
   "source": [
    "## **Links**"
   ]
  },
  {
   "cell_type": "markdown",
   "metadata": {},
   "source": [
    "* Sintaxe para inserir link `[Texto do link](link)`"
   ]
  },
  {
   "cell_type": "markdown",
   "metadata": {},
   "source": [
    "[Site do Google](https://www.google.com/)"
   ]
  },
  {
   "cell_type": "markdown",
   "metadata": {},
   "source": [
    "## **Código - somente no Github**"
   ]
  },
  {
   "cell_type": "markdown",
   "metadata": {},
   "source": [
    "* Essa sintaxe é do markdown `especial do GitHub`\n",
    "* Inserir `código` no Markdown\n",
    "* A sintaxe é: \"``````\", com o código no meio, entre os 6 acentos "
   ]
  },
  {
   "cell_type": "markdown",
   "metadata": {},
   "source": [
    "```\n",
    "javascript\n",
    "function soma(a,b) {\n",
    "    return a+b;\n",
    "}\n",
    "```"
   ]
  },
  {
   "cell_type": "markdown",
   "metadata": {},
   "source": [
    "## **Task list - Lista de tarefas do projeto**"
   ]
  },
  {
   "cell_type": "markdown",
   "metadata": {},
   "source": [
    "* Sintaxe especial do `GitHub`\n",
    "* Podemos inserir uma `lista de tarefas`\n",
    "* A sintaxe para tarefas concluídas: `- [x] CSS rodapé`\n",
    "* A sintaxe para não tarefas concluídas: `- [] CSS cabeçalho`"
   ]
  },
  {
   "cell_type": "markdown",
   "metadata": {},
   "source": [
    "- [x] CSS rodapé\n",
    "- [] CSS Integração de bônus"
   ]
  }
 ],
 "metadata": {
  "kernelspec": {
   "display_name": "Python 3.9.1 64-bit",
   "language": "python",
   "name": "python3"
  },
  "language_info": {
   "name": "python",
   "version": "3.9.1"
  },
  "orig_nbformat": 4,
  "vscode": {
   "interpreter": {
    "hash": "a590321cf065e4ba3627182a710d1fec05cf87c0ee9fe3c67341e46600c6f479"
   }
  }
 },
 "nbformat": 4,
 "nbformat_minor": 2
}
